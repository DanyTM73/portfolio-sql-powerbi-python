{
 "cells": [
  {
   "cell_type": "markdown",
   "id": "b28513de",
   "metadata": {},
   "source": [
    "# THE *FOR* SENTENCE\n",
    "\n",
    "Unlike the `while` statement, where the condition is repeated a number of times that depends on the condition, in this case the `for` statement allows executing a portion of code **a predetermined number of times**."
   ]
  },
  {
   "cell_type": "markdown",
   "id": "17ae92b7",
   "metadata": {},
   "source": [
    "## Structure"
   ]
  },
  {
   "cell_type": "code",
   "execution_count": 1,
   "id": "3f4e8064",
   "metadata": {},
   "outputs": [
    {
     "ename": "_IncompleteInputError",
     "evalue": "incomplete input (1180680275.py, line 6)",
     "output_type": "error",
     "traceback": [
      "  \u001b[36mCell\u001b[39m\u001b[36m \u001b[39m\u001b[32mIn[1]\u001b[39m\u001b[32m, line 6\u001b[39m\n\u001b[31m    \u001b[39m\u001b[31m# Line NOT indented to the right: does not execute repeatedly\u001b[39m\n                                                                 ^\n\u001b[31m_IncompleteInputError\u001b[39m\u001b[31m:\u001b[39m incomplete input\n"
     ]
    }
   ],
   "source": [
    "for variable in iterable:\n",
    "   # Line 1 to be executed in each iteration\n",
    "   # Line 2 to be executed in each iteration\n",
    "   # ...\n",
    "   # Line n to be executed in each iteration\n",
    "# Line NOT indented to the right: does not execute repeatedly\n"
   ]
  },
  {
   "cell_type": "markdown",
   "id": "15ff0340",
   "metadata": {},
   "source": [
    "## Examples"
   ]
  },
  {
   "cell_type": "code",
   "execution_count": 2,
   "id": "f43efd89",
   "metadata": {},
   "outputs": [
    {
     "name": "stdout",
     "output_type": "stream",
     "text": [
      "P\n",
      "y\n",
      "t\n",
      "h\n",
      "o\n",
      "n\n",
      "End\n"
     ]
    }
   ],
   "source": [
    "# Example 1: print each letter of a word\n",
    "\n",
    "for word in 'Python':\n",
    "    print(word)\n",
    "print('End')"
   ]
  },
  {
   "cell_type": "code",
   "execution_count": 3,
   "id": "b0d220be",
   "metadata": {},
   "outputs": [
    {
     "name": "stdout",
     "output_type": "stream",
     "text": [
      "0\n",
      "1\n",
      "2\n",
      "3\n",
      "4\n",
      "5\n",
      "6\n",
      "7\n",
      "8\n",
      "9\n"
     ]
    }
   ],
   "source": [
    "# Example 2: using the function \"range\"\n",
    "\n",
    "for number in range(10):\n",
    "    print(number)"
   ]
  },
  {
   "cell_type": "code",
   "execution_count": 4,
   "id": "26f65aed",
   "metadata": {},
   "outputs": [
    {
     "data": {
      "text/plain": [
       "\u001b[31mInit signature:\u001b[39m range(self, /, *args, **kwargs)\n",
       "\u001b[31mDocstring:\u001b[39m     \n",
       "range(stop) -> range object\n",
       "range(start, stop[, step]) -> range object\n",
       "\n",
       "Return an object that produces a sequence of integers from start (inclusive)\n",
       "to stop (exclusive) by step.  range(i, j) produces i, i+1, i+2, ..., j-1.\n",
       "start defaults to 0, and stop is omitted!  range(4) produces 0, 1, 2, 3.\n",
       "These are exactly the valid indices for a list of 4 elements.\n",
       "When step is given, it specifies the increment (or decrement).\n",
       "\u001b[31mType:\u001b[39m           type\n",
       "\u001b[31mSubclasses:\u001b[39m     "
      ]
     },
     "metadata": {},
     "output_type": "display_data"
    }
   ],
   "source": [
    "range?"
   ]
  },
  {
   "cell_type": "code",
   "execution_count": 5,
   "id": "be59d3a7",
   "metadata": {},
   "outputs": [
    {
     "name": "stdout",
     "output_type": "stream",
     "text": [
      "1\n",
      "3\n",
      "5\n",
      "7\n",
      "9\n"
     ]
    }
   ],
   "source": [
    "for number in range(1,10,2):\n",
    "    print(number)"
   ]
  },
  {
   "cell_type": "code",
   "execution_count": 8,
   "id": "2e7e504b",
   "metadata": {},
   "outputs": [
    {
     "name": "stdout",
     "output_type": "stream",
     "text": [
      "Month: 1. Balance: 1008.0\n",
      "Month: 2. Balance: 1016.064\n",
      "Month: 3. Balance: 1024.192512\n",
      "Month: 4. Balance: 1032.3860520960002\n",
      "Month: 5. Balance: 1040.6451405127682\n",
      "Month: 6. Balance: 1048.9703016368703\n",
      "Month: 7. Balance: 1057.3620640499653\n",
      "Month: 8. Balance: 1065.820960562365\n",
      "Month: 9. Balance: 1074.347528246864\n",
      "Month: 10. Balance: 1082.942308472839\n",
      "Month: 11. Balance: 1091.6058469406216\n",
      "Month: 12. Balance: 1100.3386937161465\n"
     ]
    }
   ],
   "source": [
    "# A complete example: suppose we invest 1000 dollars in the stock market. \n",
    "# The monthly interest is 0.8%. Calculate the balance after one year \n",
    "# (12 months)\n",
    "\n",
    "balance = 1000\n",
    "interest = 0.8/100\n",
    "\n",
    "for month in range(1,13):\n",
    "    # Update the balance\n",
    "    # balance = balance + balance*interest\n",
    "    balance += balance*interest\n",
    "    \n",
    "    # Print the updated balance and the month on the screen\n",
    "    print(f'Month: {month}. Balance: {balance}')"
   ]
  },
  {
   "cell_type": "code",
   "execution_count": null,
   "id": "853e33ea",
   "metadata": {},
   "outputs": [],
   "source": []
  }
 ],
 "metadata": {
  "kernelspec": {
   "display_name": "Python 3 (ipykernel)",
   "language": "python",
   "name": "python3"
  },
  "language_info": {
   "codemirror_mode": {
    "name": "ipython",
    "version": 3
   },
   "file_extension": ".py",
   "mimetype": "text/x-python",
   "name": "python",
   "nbconvert_exporter": "python",
   "pygments_lexer": "ipython3",
   "version": "3.13.2"
  }
 },
 "nbformat": 4,
 "nbformat_minor": 5
}
