{
 "cells": [
  {
   "cell_type": "markdown",
   "id": "025d5959",
   "metadata": {},
   "source": [
    "# READING DATA FROM KEYBOARD AND ERROR HANDLING"
   ]
  },
  {
   "cell_type": "markdown",
   "id": "ba23be1f",
   "metadata": {},
   "source": [
    "In this second project we will implement a program that meets these requirements: \n",
    "1. It must accept three numeric input variables entered by the user from the keyboard (a, b, c)\n",
    "2. It must display a table on the screen similar to the following:\n",
    "   \n",
    "         a,b,c      5,2,10\n",
    "         a+b+c      17\n",
    "         a*b*c      -7\n",
    "         a*b/c      100"
   ]
  },
  {
   "cell_type": "markdown",
   "id": "a5607133",
   "metadata": {},
   "source": [
    "## 1- Data entry from the keyboard"
   ]
  },
  {
   "cell_type": "code",
   "execution_count": null,
   "id": "bafe4df6",
   "metadata": {},
   "outputs": [],
   "source": [
    "a = input('Enter data a: ')\n",
    "b = input('Enter data b: ')\n",
    "c = input('Enter data c: ')"
   ]
  },
  {
   "cell_type": "markdown",
   "id": "ed21a2c4",
   "metadata": {},
   "source": [
    "## 2- Calculations"
   ]
  },
  {
   "cell_type": "code",
   "execution_count": null,
   "id": "6a8ef132",
   "metadata": {},
   "outputs": [],
   "source": [
    "a = float(a)\n",
    "b = float(b)\n",
    "c = float(c)\n",
    "type(a)"
   ]
  },
  {
   "cell_type": "code",
   "execution_count": null,
   "id": "b2ec1fa0",
   "metadata": {},
   "outputs": [],
   "source": [
    "suma = a + b + c\n",
    "multip = a*b*c\n",
    "multip_div = a*b/c"
   ]
  },
  {
   "cell_type": "code",
   "execution_count": null,
   "id": "57e4c465",
   "metadata": {},
   "outputs": [],
   "source": [
    "suma"
   ]
  },
  {
   "cell_type": "code",
   "execution_count": null,
   "id": "006b9b8b",
   "metadata": {},
   "outputs": [],
   "source": [
    "multip"
   ]
  },
  {
   "cell_type": "code",
   "execution_count": null,
   "id": "63db8307",
   "metadata": {},
   "outputs": [],
   "source": [
    "multip_div"
   ]
  },
  {
   "cell_type": "code",
   "execution_count": null,
   "id": "1803169d",
   "metadata": {},
   "outputs": [],
   "source": [
    "type(suma)"
   ]
  },
  {
   "cell_type": "markdown",
   "id": "9db3e4dd",
   "metadata": {},
   "source": [
    "## 3- Print the table"
   ]
  },
  {
   "cell_type": "code",
   "execution_count": null,
   "id": "be00ad29",
   "metadata": {},
   "outputs": [],
   "source": [
    "# First line\n",
    "print(\"a,b,c\\t\\t\",str(a)+', '+str(b)+', '+str(c))\n",
    "\n",
    "# Second line\n",
    "print(\"a+b+c\\t\\t\",str(suma))\n",
    "\n",
    "# Third line\n",
    "print(\"a*b*c\\t\\t\", str(multip))\n",
    "\n",
    "# Forth line\n",
    "print(\"a*b/c\\t\\t\", str(multip_div))"
   ]
  }
 ],
 "metadata": {
  "kernelspec": {
   "display_name": "Python 3 (ipykernel)",
   "language": "python",
   "name": "python3"
  },
  "language_info": {
   "codemirror_mode": {
    "name": "ipython",
    "version": 3
   },
   "file_extension": ".py",
   "mimetype": "text/x-python",
   "name": "python",
   "nbconvert_exporter": "python",
   "pygments_lexer": "ipython3",
   "version": "3.13.2"
  }
 },
 "nbformat": 4,
 "nbformat_minor": 5
}
