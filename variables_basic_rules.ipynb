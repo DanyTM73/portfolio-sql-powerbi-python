{
 "cells": [
  {
   "cell_type": "markdown",
   "id": "a1214e40",
   "metadata": {},
   "source": [
    "# VARIABLES AND BASIC RULES"
   ]
  },
  {
   "cell_type": "markdown",
   "id": "2731ae0d",
   "metadata": {},
   "source": [
    "## 1- Variables\n",
    "\n",
    "A **variable** allows you to store a **data** (*string*, *int*, *float*, *bool*, etc.) in memory to be used later in the program."
   ]
  },
  {
   "cell_type": "code",
   "execution_count": 1,
   "id": "b12d0b31",
   "metadata": {},
   "outputs": [],
   "source": [
    "text = \"This is an example of text\""
   ]
  },
  {
   "cell_type": "code",
   "execution_count": 2,
   "id": "dae4e23e",
   "metadata": {},
   "outputs": [],
   "source": [
    "# Características de las variables:\n",
    "# 1. Valor\n",
    "# 2. Tipo de dato\n",
    "# 3. \"id\": posición/dirección en memoria"
   ]
  },
  {
   "cell_type": "code",
   "execution_count": 3,
   "id": "ccc3f318",
   "metadata": {},
   "outputs": [
    {
     "data": {
      "text/plain": [
       "4491754752"
      ]
     },
     "execution_count": 3,
     "metadata": {},
     "output_type": "execute_result"
    }
   ],
   "source": [
    "id(text)"
   ]
  },
  {
   "cell_type": "code",
   "execution_count": 4,
   "id": "4f2c33aa",
   "metadata": {},
   "outputs": [
    {
     "data": {
      "text/plain": [
       "4491754592"
      ]
     },
     "execution_count": 4,
     "metadata": {},
     "output_type": "execute_result"
    }
   ],
   "source": [
    "text2 = 'Second example of text'\n",
    "id(text2)"
   ]
  },
  {
   "cell_type": "code",
   "execution_count": 5,
   "id": "d1b00036",
   "metadata": {},
   "outputs": [
    {
     "data": {
      "text/plain": [
       "str"
      ]
     },
     "execution_count": 5,
     "metadata": {},
     "output_type": "execute_result"
    }
   ],
   "source": [
    "type(text)"
   ]
  },
  {
   "cell_type": "code",
   "execution_count": 6,
   "id": "534dc09c",
   "metadata": {},
   "outputs": [
    {
     "data": {
      "text/plain": [
       "'ESTE ES UN EJEMPLO DE TEXTO'"
      ]
     },
     "execution_count": 6,
     "metadata": {},
     "output_type": "execute_result"
    }
   ],
   "source": [
    "text.upper()"
   ]
  },
  {
   "cell_type": "code",
   "execution_count": 7,
   "id": "896bd3e3",
   "metadata": {},
   "outputs": [
    {
     "data": {
      "text/plain": [
       "'este es un ejemplo de texto'"
      ]
     },
     "execution_count": 7,
     "metadata": {},
     "output_type": "execute_result"
    }
   ],
   "source": [
    "text.lower()"
   ]
  },
  {
   "cell_type": "code",
   "execution_count": 10,
   "id": "f5279409",
   "metadata": {},
   "outputs": [],
   "source": [
    "text.capitalize?"
   ]
  },
  {
   "cell_type": "code",
   "execution_count": 11,
   "id": "77652545",
   "metadata": {},
   "outputs": [
    {
     "data": {
      "text/plain": [
       "False"
      ]
     },
     "execution_count": 11,
     "metadata": {},
     "output_type": "execute_result"
    }
   ],
   "source": [
    "text.startswith('F')"
   ]
  },
  {
   "cell_type": "code",
   "execution_count": 12,
   "id": "bc113149",
   "metadata": {},
   "outputs": [
    {
     "data": {
      "text/plain": [
       "True"
      ]
     },
     "execution_count": 12,
     "metadata": {},
     "output_type": "execute_result"
    }
   ],
   "source": [
    "text.startswith('E')"
   ]
  },
  {
   "cell_type": "code",
   "execution_count": 13,
   "id": "021cb23d",
   "metadata": {},
   "outputs": [
    {
     "data": {
      "text/plain": [
       "complex"
      ]
     },
     "execution_count": 13,
     "metadata": {},
     "output_type": "execute_result"
    }
   ],
   "source": [
    "# Atributos\n",
    "c = 5 + 2j\n",
    "type(c)"
   ]
  },
  {
   "cell_type": "code",
   "execution_count": 14,
   "id": "8ac941fb",
   "metadata": {},
   "outputs": [
    {
     "data": {
      "text/plain": [
       "5.0"
      ]
     },
     "execution_count": 14,
     "metadata": {},
     "output_type": "execute_result"
    }
   ],
   "source": [
    "c.real # Atributo parte real"
   ]
  },
  {
   "cell_type": "code",
   "execution_count": 15,
   "id": "4021b67f",
   "metadata": {},
   "outputs": [
    {
     "data": {
      "text/plain": [
       "2.0"
      ]
     },
     "execution_count": 15,
     "metadata": {},
     "output_type": "execute_result"
    }
   ],
   "source": [
    "c.imag # Atributo parte imaginaria"
   ]
  },
  {
   "cell_type": "code",
   "execution_count": 16,
   "id": "c72ad5a9",
   "metadata": {},
   "outputs": [
    {
     "data": {
      "text/plain": [
       "<function complex.conjugate>"
      ]
     },
     "execution_count": 16,
     "metadata": {},
     "output_type": "execute_result"
    }
   ],
   "source": [
    "c.conjugate"
   ]
  },
  {
   "cell_type": "code",
   "execution_count": 17,
   "id": "82887a75",
   "metadata": {},
   "outputs": [
    {
     "data": {
      "text/plain": [
       "(5-2j)"
      ]
     },
     "execution_count": 17,
     "metadata": {},
     "output_type": "execute_result"
    }
   ],
   "source": [
    "c.conjugate() # Método conjugada"
   ]
  },
  {
   "cell_type": "markdown",
   "id": "d1607022",
   "metadata": {},
   "source": [
    "## 2- Algunas reglas básicas\n",
    "\n",
    "1. Pueden contener letras, números y _ pero NO pueden comenzar con número. Ejemplo: `texto_1` es válido, pero `1_texto` ó `texto 1` NO son válidas"
   ]
  },
  {
   "cell_type": "markdown",
   "id": "a971f00d",
   "metadata": {},
   "source": [
    "2. Python distingue entre mayúsculas y minúsculas. `entero` es diferente `ENTERO` ó `Entero`"
   ]
  },
  {
   "cell_type": "markdown",
   "id": "471f8b27",
   "metadata": {},
   "source": [
    "3. Se debe evitar usar nombres de variables que coincidan con nombres de funciones o palabras reservadas de Python. Ejemplo: `id`, `type`, `list`, etc. Para un listado completo ver [el listado completo de funciones](https://docs.python.org/3/library/functions.html) y [el listado completo de palabras reservadas](https://docs.python.org/3/reference/lexical_analysis.html#keywords)"
   ]
  },
  {
   "cell_type": "code",
   "execution_count": 18,
   "id": "beae5143",
   "metadata": {},
   "outputs": [],
   "source": [
    "variable = 5"
   ]
  },
  {
   "cell_type": "markdown",
   "id": "cd2143ae",
   "metadata": {},
   "source": [
    "4. Los nombres de las variables deben ser descriptivos. Es mejor usar `nombre_estudiante` en lugar de `n_s`"
   ]
  },
  {
   "cell_type": "code",
   "execution_count": null,
   "id": "990868b2",
   "metadata": {},
   "outputs": [],
   "source": []
  }
 ],
 "metadata": {
  "kernelspec": {
   "display_name": "Python 3 (ipykernel)",
   "language": "python",
   "name": "python3"
  },
  "language_info": {
   "codemirror_mode": {
    "name": "ipython",
    "version": 3
   },
   "file_extension": ".py",
   "mimetype": "text/x-python",
   "name": "python",
   "nbconvert_exporter": "python",
   "pygments_lexer": "ipython3",
   "version": "3.13.2"
  }
 },
 "nbformat": 4,
 "nbformat_minor": 5
}
