{
 "cells": [
  {
   "cell_type": "markdown",
   "id": "5bc783bf",
   "metadata": {},
   "source": [
    "# PRACTICE: CALCULATE THE COST OF AN ENTRANCE\n",
    "\n",
    "In this practice, we will implement a program that is capable of calculating the cost of an admission ticket to an amusement park. The interesting part here is that there will be different rates depending on the age range of the visitors.\n",
    "\n",
    "So the implementation of the program will require the use of several tools we have seen so far: the use of operators, the use of if statements, data input from the keyboard, and the use of Python functions to display the results on the screen."
   ]
  },
  {
   "cell_type": "markdown",
   "id": "b816ca59",
   "metadata": {},
   "source": [
    "## Requirements\n",
    "\n",
    "The program must meet the following requirements:\n",
    "\n",
    "1. It must accept as input the age of the visitor, entered by the user through the keyboard.\n",
    "2. It must calculate the fee to be paid by the visitor, depending on these age ranges:\n",
    "   - 18 to 55 years: flat fee with no discount, 10 dollars\n",
    "   - 56 to 70 years: 5% discount on the flat fee\n",
    "   - 71 years and older: 10% discount on the flat fee\n",
    "   - 5 to 17 years: 20% discount on the flat fee\n",
    "   - Children under 5 years: 50% discount on the flat fee\n",
    "3.  At the end, it must print a message on the screen indicating the fee to be paid and the discount applied. For example: \"The cost of your ticket is 50 dollars (discount applied: 50%)\""
   ]
  },
  {
   "cell_type": "markdown",
   "id": "f7690a2a",
   "metadata": {},
   "source": [
    "## Implementation"
   ]
  },
  {
   "cell_type": "code",
   "execution_count": 2,
   "id": "50bc111b",
   "metadata": {},
   "outputs": [
    {
     "name": "stdin",
     "output_type": "stream",
     "text": [
      "Enter the age of the visitor:  45\n"
     ]
    }
   ],
   "source": [
    "#1. Enter the age of the visitor\n",
    "age = int(input('Enter the age of the visitor: '))"
   ]
  },
  {
   "cell_type": "code",
   "execution_count": 3,
   "id": "5c2b5853",
   "metadata": {},
   "outputs": [],
   "source": [
    "#2. Calculate the cost of the entry ticket (fare)\n",
    "flat_rate = 10\n",
    "message = \"\"\"The cost of your ticket is 10 euros.\n",
    "You did not have any discount\"\"\"\n",
    "\n",
    "if age >= 71:\n",
    "    rate = flat_rate - flat_rate*10/100\n",
    "    message = f\"\"\"The cost of your ticket is {rate} dollars.\n",
    "Your discount was 10%.\"\"\"\n",
    "elif age >= 56:\n",
    "    rate = flat_rate - flat_rate*5/100\n",
    "    message = f\"\"\"The cost of your ticket is {rate} dollars.\n",
    "Your discount was 5%.\"\"\"\n",
    "elif (age >= 5) and (age <= 17):\n",
    "    rate = flat_rate - flat_rate*20/100\n",
    "    mensaje = f\"\"\"The cost of your ticket is {rate} dollars.\n",
    "Your discount was 20%.\"\"\"\n",
    "elif age < 5:\n",
    "    rate = flat_rate - flat_rate*50/100\n",
    "    mensaje = f\"\"\"The cost of your ticket is {rate} dollars.\n",
    "Your discount was 50%.\"\"\"   "
   ]
  },
  {
   "cell_type": "code",
   "execution_count": 4,
   "id": "6a43f978",
   "metadata": {},
   "outputs": [
    {
     "name": "stdout",
     "output_type": "stream",
     "text": [
      "The cost of your ticket is 10 euros.\n",
      "You did not have any discount\n"
     ]
    }
   ],
   "source": [
    "# 3. Imprimir en pantalla el mensaje\n",
    "print(message)"
   ]
  },
  {
   "cell_type": "code",
   "execution_count": null,
   "id": "7bc238d2",
   "metadata": {},
   "outputs": [],
   "source": []
  },
  {
   "cell_type": "code",
   "execution_count": null,
   "id": "35a85e59-fd49-445e-b3f4-7837fc345925",
   "metadata": {},
   "outputs": [],
   "source": []
  }
 ],
 "metadata": {
  "kernelspec": {
   "display_name": "Python 3 (ipykernel)",
   "language": "python",
   "name": "python3"
  },
  "language_info": {
   "codemirror_mode": {
    "name": "ipython",
    "version": 3
   },
   "file_extension": ".py",
   "mimetype": "text/x-python",
   "name": "python",
   "nbconvert_exporter": "python",
   "pygments_lexer": "ipython3",
   "version": "3.13.2"
  }
 },
 "nbformat": 4,
 "nbformat_minor": 5
}
