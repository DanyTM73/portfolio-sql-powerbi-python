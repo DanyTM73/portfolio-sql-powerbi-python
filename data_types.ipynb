{
 "cells": [
  {
   "cell_type": "markdown",
   "id": "7edb5449",
   "metadata": {},
   "source": [
    "# DATA TYPES"
   ]
  },
  {
   "cell_type": "markdown",
   "id": "1abd1533",
   "metadata": {},
   "source": [
    "## 1- Strings"
   ]
  },
  {
   "cell_type": "code",
   "execution_count": 23,
   "id": "148597d8",
   "metadata": {},
   "outputs": [],
   "source": [
    "text1 = \"This is an example\""
   ]
  },
  {
   "cell_type": "code",
   "execution_count": 24,
   "id": "043c0a93",
   "metadata": {},
   "outputs": [
    {
     "data": {
      "text/plain": [
       "str"
      ]
     },
     "execution_count": 24,
     "metadata": {},
     "output_type": "execute_result"
    }
   ],
   "source": [
    "type(text1)"
   ]
  },
  {
   "cell_type": "code",
   "execution_count": 25,
   "id": "5aef442f",
   "metadata": {},
   "outputs": [],
   "source": [
    "text2 = 'This is a second example'"
   ]
  },
  {
   "cell_type": "code",
   "execution_count": 26,
   "id": "50681459",
   "metadata": {},
   "outputs": [
    {
     "data": {
      "text/plain": [
       "str"
      ]
     },
     "execution_count": 26,
     "metadata": {},
     "output_type": "execute_result"
    }
   ],
   "source": [
    "type(text2)"
   ]
  },
  {
   "cell_type": "code",
   "execution_count": 27,
   "id": "07c6f3cd",
   "metadata": {},
   "outputs": [],
   "source": [
    "text3 = 'This is a third example, with a text \"in quotes\"'"
   ]
  },
  {
   "cell_type": "code",
   "execution_count": 28,
   "id": "b484a8c5",
   "metadata": {},
   "outputs": [
    {
     "data": {
      "text/plain": [
       "str"
      ]
     },
     "execution_count": 28,
     "metadata": {},
     "output_type": "execute_result"
    }
   ],
   "source": [
    "type(text3)"
   ]
  },
  {
   "cell_type": "code",
   "execution_count": 29,
   "id": "9fe18a2b",
   "metadata": {},
   "outputs": [
    {
     "name": "stdout",
     "output_type": "stream",
     "text": [
      "This is a third example, with a text \"in quotes\"\n"
     ]
    }
   ],
   "source": [
    "print(text3)"
   ]
  },
  {
   "cell_type": "code",
   "execution_count": 30,
   "id": "d02a2fc1",
   "metadata": {},
   "outputs": [],
   "source": [
    "text = text1 + ' ' + text2 + ' ' + text3"
   ]
  },
  {
   "cell_type": "code",
   "execution_count": 31,
   "id": "74ad73ab",
   "metadata": {},
   "outputs": [
    {
     "name": "stdout",
     "output_type": "stream",
     "text": [
      "This is an example This is a second example This is a third example, with a text \"in quotes\"\n"
     ]
    }
   ],
   "source": [
    "print(text)"
   ]
  },
  {
   "cell_type": "code",
   "execution_count": 32,
   "id": "c7d8f1e3",
   "metadata": {},
   "outputs": [
    {
     "name": "stdout",
     "output_type": "stream",
     "text": [
      "Line 1\n",
      "Line 2\n",
      "Line 3\n"
     ]
    }
   ],
   "source": [
    "# Caracteres de escape\n",
    "text4 = 'Line 1\\nLine 2\\nLine 3'\n",
    "print(text4)"
   ]
  },
  {
   "cell_type": "code",
   "execution_count": 33,
   "id": "cc7e0b3d",
   "metadata": {},
   "outputs": [
    {
     "name": "stdout",
     "output_type": "stream",
     "text": [
      "First part\tsecond part\t\t\tthird part\n"
     ]
    }
   ],
   "source": [
    "text5 = 'First part\\tsecond part\\t\\t\\tthird part'\n",
    "print(text5)"
   ]
  },
  {
   "cell_type": "markdown",
   "id": "118e4ad3",
   "metadata": {},
   "source": [
    "## 2- Numbers"
   ]
  },
  {
   "cell_type": "code",
   "execution_count": 34,
   "id": "45e29d35",
   "metadata": {},
   "outputs": [
    {
     "data": {
      "text/plain": [
       "int"
      ]
     },
     "execution_count": 34,
     "metadata": {},
     "output_type": "execute_result"
    }
   ],
   "source": [
    "# Integer type\n",
    "a = 5\n",
    "type(a)"
   ]
  },
  {
   "cell_type": "code",
   "execution_count": 35,
   "id": "3b1f19f1",
   "metadata": {},
   "outputs": [
    {
     "data": {
      "text/plain": [
       "float"
      ]
     },
     "execution_count": 35,
     "metadata": {},
     "output_type": "execute_result"
    }
   ],
   "source": [
    "# Decimal type\n",
    "b = 19.23\n",
    "type(b)"
   ]
  },
  {
   "cell_type": "code",
   "execution_count": 36,
   "id": "01e6efb8",
   "metadata": {},
   "outputs": [
    {
     "data": {
      "text/plain": [
       "complex"
      ]
     },
     "execution_count": 36,
     "metadata": {},
     "output_type": "execute_result"
    }
   ],
   "source": [
    "# Complex type\n",
    "c = 5 + 2j\n",
    "type(c)"
   ]
  },
  {
   "cell_type": "markdown",
   "id": "dc535f69",
   "metadata": {},
   "source": [
    "## 3- Boolean"
   ]
  },
  {
   "cell_type": "code",
   "execution_count": 37,
   "id": "006da1e1",
   "metadata": {},
   "outputs": [
    {
     "data": {
      "text/plain": [
       "bool"
      ]
     },
     "execution_count": 37,
     "metadata": {},
     "output_type": "execute_result"
    }
   ],
   "source": [
    "truthy = True\n",
    "type(truthy)"
   ]
  },
  {
   "cell_type": "code",
   "execution_count": 38,
   "id": "09850257",
   "metadata": {},
   "outputs": [
    {
     "data": {
      "text/plain": [
       "bool"
      ]
     },
     "execution_count": 38,
     "metadata": {},
     "output_type": "execute_result"
    }
   ],
   "source": [
    "falsy = False\n",
    "type(falsy)"
   ]
  },
  {
   "cell_type": "code",
   "execution_count": 39,
   "id": "ada2e026",
   "metadata": {},
   "outputs": [
    {
     "name": "stdout",
     "output_type": "stream",
     "text": [
      "Variable   Type       Data/Info\n",
      "-------------------------------\n",
      "a          int        5\n",
      "b          float      19.23\n",
      "c          complex    (5+2j)\n",
      "falsy      bool       False\n",
      "text       str        This is an example This i<...>, with a text \"in quotes\"\n",
      "text1      str        This is an example\n",
      "text2      str        This is a second example\n",
      "text3      str        This is a third example, with a text \"in quotes\"\n",
      "text4      str        Line 1\\nLine 2\\nLine 3\n",
      "text5      str        First part\tsecond part\t\t\tthird part\n",
      "texto2     str        This is a second example\n",
      "truthy     bool       True\n"
     ]
    }
   ],
   "source": [
    "%whos"
   ]
  },
  {
   "cell_type": "code",
   "execution_count": null,
   "id": "640d4ba2",
   "metadata": {},
   "outputs": [],
   "source": []
  }
 ],
 "metadata": {
  "kernelspec": {
   "display_name": "Python 3 (ipykernel)",
   "language": "python",
   "name": "python3"
  },
  "language_info": {
   "codemirror_mode": {
    "name": "ipython",
    "version": 3
   },
   "file_extension": ".py",
   "mimetype": "text/x-python",
   "name": "python",
   "nbconvert_exporter": "python",
   "pygments_lexer": "ipython3",
   "version": "3.13.2"
  }
 },
 "nbformat": 4,
 "nbformat_minor": 5
}
