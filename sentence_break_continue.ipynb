{
 "cells": [
  {
   "cell_type": "markdown",
   "id": "5b4a0882",
   "metadata": {},
   "source": [
    "# SENTENCE *BREAK* AND *CONTINUE*\n",
    "\n",
    "These statements allow altering the behavior of `while` and `for` loops by enabling **forceful termination** (with `break`) or skipping the execution of code for a particular iteration (with `continue`)."
   ]
  },
  {
   "cell_type": "markdown",
   "id": "2e81c263",
   "metadata": {},
   "source": [
    "## Sentence `break` + `while`"
   ]
  },
  {
   "cell_type": "code",
   "execution_count": 7,
   "id": "48033900",
   "metadata": {},
   "outputs": [
    {
     "ename": "NameError",
     "evalue": "name 'condition_while' is not defined",
     "output_type": "error",
     "traceback": [
      "\u001b[31m---------------------------------------------------------------------------\u001b[39m",
      "\u001b[31mNameError\u001b[39m                                 Traceback (most recent call last)",
      "\u001b[36mCell\u001b[39m\u001b[36m \u001b[39m\u001b[32mIn[7]\u001b[39m\u001b[32m, line 1\u001b[39m\n\u001b[32m----> \u001b[39m\u001b[32m1\u001b[39m \u001b[38;5;28;01mwhile\u001b[39;00m condition_while:\n\u001b[32m      2\u001b[39m     \u001b[38;5;66;03m# Primera parte del código a ejecutar\u001b[39;00m\n\u001b[32m      3\u001b[39m     \u001b[38;5;66;03m# ...\u001b[39;00m\n\u001b[32m      5\u001b[39m     \u001b[38;5;28;01mif\u001b[39;00m condition_break:\n\u001b[32m      6\u001b[39m         \u001b[38;5;28;01mbreak\u001b[39;00m\n",
      "\u001b[31mNameError\u001b[39m: name 'condition_while' is not defined"
     ]
    }
   ],
   "source": [
    "while condition_while:\n",
    "    # Primera parte del código a ejecutar\n",
    "    # ...\n",
    "    \n",
    "    if condition_break:\n",
    "        break\n",
    "    \n",
    "    # Second part of the code to be executed\n",
    "    # ...\n",
    "# Code to be executed AFTER the while"
   ]
  },
  {
   "cell_type": "code",
   "execution_count": 8,
   "id": "888ee4e3",
   "metadata": {},
   "outputs": [
    {
     "name": "stdin",
     "output_type": "stream",
     "text": [
      "Enter the amount to withdraw:  1020\n"
     ]
    },
    {
     "name": "stdout",
     "output_type": "stream",
     "text": [
      "The amount to withdraw exceeds the balance\n",
      "End of the program.\n"
     ]
    }
   ],
   "source": [
    "balance = 1000\n",
    "day = 0\n",
    "\n",
    "while balance >= 0:\n",
    "    # Update the day\n",
    "    day += 1\n",
    "    \n",
    "    # Ask the user the amount to withdraw\n",
    "    withdrawal = int(input('Enter the amount to withdraw: '))\n",
    "    \n",
    "    # Add the break statement:\n",
    "    if withdrawal > balance:\n",
    "        print('The amount to withdraw exceeds the balance')\n",
    "        break\n",
    "    \n",
    "    # Update the balance\n",
    "    balance -= withdrawal\n",
    "    \n",
    "    # Print out the day and the balance\n",
    "    print(f'Day: {day}. Balance: {balance}')\n",
    "print('End of the program.')"
   ]
  },
  {
   "cell_type": "markdown",
   "id": "04ef62df",
   "metadata": {},
   "source": [
    "## Sentence `break` + `for`"
   ]
  },
  {
   "cell_type": "code",
   "execution_count": 9,
   "id": "ccc28842",
   "metadata": {},
   "outputs": [
    {
     "ename": "NameError",
     "evalue": "name 'iterator' is not defined",
     "output_type": "error",
     "traceback": [
      "\u001b[31m---------------------------------------------------------------------------\u001b[39m",
      "\u001b[31mNameError\u001b[39m                                 Traceback (most recent call last)",
      "\u001b[36mCell\u001b[39m\u001b[36m \u001b[39m\u001b[32mIn[9]\u001b[39m\u001b[32m, line 1\u001b[39m\n\u001b[32m----> \u001b[39m\u001b[32m1\u001b[39m \u001b[38;5;28;01mfor\u001b[39;00m variable \u001b[38;5;129;01min\u001b[39;00m iterator:\n\u001b[32m      2\u001b[39m     \u001b[38;5;66;03m# First part of the code to be executed\u001b[39;00m\n\u001b[32m      3\u001b[39m     \u001b[38;5;66;03m# ...\u001b[39;00m\n\u001b[32m      5\u001b[39m     \u001b[38;5;28;01mif\u001b[39;00m condition_break:\n\u001b[32m      6\u001b[39m         \u001b[38;5;28;01mbreak\u001b[39;00m\n",
      "\u001b[31mNameError\u001b[39m: name 'iterator' is not defined"
     ]
    }
   ],
   "source": [
    "for variable in iterator:\n",
    "    # First part of the code to be executed\n",
    "    # ...\n",
    "    \n",
    "    if condition_break:\n",
    "        break\n",
    "    \n",
    "    # Second part of the code to be executed\n",
    "    # ...\n",
    "# Code to be executed AFTER the for"
   ]
  },
  {
   "cell_type": "code",
   "execution_count": 10,
   "id": "c23524db",
   "metadata": {},
   "outputs": [
    {
     "name": "stdout",
     "output_type": "stream",
     "text": [
      "P\n",
      "---------\n",
      "y\n",
      "---------\n",
      "t\n",
      "---------\n",
      "h\n",
      "We have reached the letter h. The execution of the cycle will stop.\n",
      "End of the program\n"
     ]
    }
   ],
   "source": [
    "for word in 'Python':\n",
    "    # Print each letter of the word\n",
    "    print(word)\n",
    "    \n",
    "    # Insert break: stop the execution of the loop if the letter is 'h'\n",
    "    if word=='h':\n",
    "        print('We have reached the letter h. The execution of the cycle will stop.')\n",
    "        break\n",
    "    \n",
    "    # print a separator\n",
    "    print('---------')\n",
    "print('End of the program')"
   ]
  },
  {
   "cell_type": "markdown",
   "id": "cf7fecec",
   "metadata": {},
   "source": [
    "## Sentence `continue` + `while`"
   ]
  },
  {
   "cell_type": "code",
   "execution_count": 11,
   "id": "fd27c27e",
   "metadata": {},
   "outputs": [
    {
     "ename": "NameError",
     "evalue": "name 'condition_while' is not defined",
     "output_type": "error",
     "traceback": [
      "\u001b[31m---------------------------------------------------------------------------\u001b[39m",
      "\u001b[31mNameError\u001b[39m                                 Traceback (most recent call last)",
      "\u001b[36mCell\u001b[39m\u001b[36m \u001b[39m\u001b[32mIn[11]\u001b[39m\u001b[32m, line 1\u001b[39m\n\u001b[32m----> \u001b[39m\u001b[32m1\u001b[39m \u001b[38;5;28;01mwhile\u001b[39;00m condition_while:\n\u001b[32m      2\u001b[39m     \u001b[38;5;66;03m# First part of the code to be executed\u001b[39;00m\n\u001b[32m      3\u001b[39m     \u001b[38;5;66;03m# ...\u001b[39;00m\n\u001b[32m      5\u001b[39m     \u001b[38;5;28;01mif\u001b[39;00m condition_continue:\n\u001b[32m      6\u001b[39m         \u001b[38;5;28;01mcontinue\u001b[39;00m\n",
      "\u001b[31mNameError\u001b[39m: name 'condition_while' is not defined"
     ]
    }
   ],
   "source": [
    "while condition_while:\n",
    "    # First part of the code to be executed\n",
    "    # ...\n",
    "    \n",
    "    if condition_continue:\n",
    "        continue\n",
    "    \n",
    "    # Second part of the code to be executed\n",
    "    # ...\n",
    "# Code to be executed AFTER the while"
   ]
  },
  {
   "cell_type": "code",
   "execution_count": 12,
   "id": "0d89b5c3",
   "metadata": {},
   "outputs": [
    {
     "name": "stdin",
     "output_type": "stream",
     "text": [
      "Enter the amount to withdraw:  1000\n"
     ]
    },
    {
     "name": "stdout",
     "output_type": "stream",
     "text": [
      "Day: 1. Balance: 0\n"
     ]
    },
    {
     "name": "stdin",
     "output_type": "stream",
     "text": [
      "Enter the amount to withdraw:  20\n"
     ]
    },
    {
     "name": "stdout",
     "output_type": "stream",
     "text": [
      "The withdrawal amount exceeds the available balance.\n",
      "End of the program.\n"
     ]
    }
   ],
   "source": [
    "balance = 1000\n",
    "day = 0\n",
    "\n",
    "while balance >= 0:\n",
    "    # Update day\n",
    "    day += 1\n",
    "    \n",
    "    # Input the amount of the withdrawal\n",
    "    withdrawal = int(input('Enter the amount to withdraw: '))\n",
    "    \n",
    "    # Add the break from the previous example to avoid \n",
    "    # withdrawing an amount greater than the balance.\n",
    "    if withdrawal > balance:\n",
    "        print('The withdrawal amount exceeds the available balance.')\n",
    "        break\n",
    "    \n",
    "    # Do not allow the user to withdraw money on day 3\n",
    "    if day == 3:\n",
    "        print('Your account is under maintenance. You cannot withdraw money.')\n",
    "        continue\n",
    "    \n",
    "    # Update the balance\n",
    "    balance -= withdrawal\n",
    "    \n",
    "    # Printing out day and balance\n",
    "    print(f'Day: {day}. Balance: {balance}')\n",
    "print('End of the program.')"
   ]
  },
  {
   "cell_type": "markdown",
   "id": "9de43258",
   "metadata": {},
   "source": [
    "## Sentencia `continue` + `for`"
   ]
  },
  {
   "cell_type": "code",
   "execution_count": 13,
   "id": "ad9cadf5",
   "metadata": {},
   "outputs": [
    {
     "ename": "NameError",
     "evalue": "name 'iterator' is not defined",
     "output_type": "error",
     "traceback": [
      "\u001b[31m---------------------------------------------------------------------------\u001b[39m",
      "\u001b[31mNameError\u001b[39m                                 Traceback (most recent call last)",
      "\u001b[36mCell\u001b[39m\u001b[36m \u001b[39m\u001b[32mIn[13]\u001b[39m\u001b[32m, line 1\u001b[39m\n\u001b[32m----> \u001b[39m\u001b[32m1\u001b[39m \u001b[38;5;28;01mfor\u001b[39;00m variable \u001b[38;5;129;01min\u001b[39;00m iterator:\n\u001b[32m      2\u001b[39m     \u001b[38;5;66;03m# First part of the code to be executed\u001b[39;00m\n\u001b[32m      3\u001b[39m     \u001b[38;5;66;03m# ...\u001b[39;00m\n\u001b[32m      5\u001b[39m     \u001b[38;5;28;01mif\u001b[39;00m condition_continue:\n\u001b[32m      6\u001b[39m         \u001b[38;5;28;01mcontinue\u001b[39;00m\n",
      "\u001b[31mNameError\u001b[39m: name 'iterator' is not defined"
     ]
    }
   ],
   "source": [
    "for variable in iterator:\n",
    "    # First part of the code to be executed\n",
    "    # ...\n",
    "    \n",
    "    if condition_continue:\n",
    "        continue\n",
    "    \n",
    "    # Second part of the code to be executed\n",
    "    # ...\n",
    "# Code to be executed AFTER the for"
   ]
  },
  {
   "cell_type": "code",
   "execution_count": 14,
   "id": "2aed8eed",
   "metadata": {},
   "outputs": [
    {
     "name": "stdout",
     "output_type": "stream",
     "text": [
      "P\n",
      "-------\n",
      "y\n",
      "-------\n",
      "We have reached the letter t and it will not be printed.\n",
      "h\n",
      "-------\n",
      "o\n",
      "-------\n",
      "n\n",
      "-------\n",
      "End of the program\n"
     ]
    }
   ],
   "source": [
    "for letter in 'Python':\n",
    "    # Imprimir todas las letras exceptuando la letra t\n",
    "    if letter==\"t\":\n",
    "        print('We have reached the letter t and it will not be printed.')\n",
    "        continue\n",
    "    \n",
    "    # Print the letter\n",
    "    print(letter)\n",
    "    \n",
    "    # Imprimir el separador\n",
    "    print('-------')\n",
    "print('End of the program')"
   ]
  }
 ],
 "metadata": {
  "kernelspec": {
   "display_name": "Python 3 (ipykernel)",
   "language": "python",
   "name": "python3"
  },
  "language_info": {
   "codemirror_mode": {
    "name": "ipython",
    "version": 3
   },
   "file_extension": ".py",
   "mimetype": "text/x-python",
   "name": "python",
   "nbconvert_exporter": "python",
   "pygments_lexer": "ipython3",
   "version": "3.13.2"
  }
 },
 "nbformat": 4,
 "nbformat_minor": 5
}
