{
 "cells": [
  {
   "cell_type": "markdown",
   "id": "3b331033",
   "metadata": {},
   "source": [
    "# Comparison operators and boolean variables"
   ]
  },
  {
   "cell_type": "markdown",
   "id": "8025895b",
   "metadata": {},
   "source": [
    "In Python, a condition allows you to compare two variables and yield a result that can be true (`True`) or false (`False`) (meaning that this result is a boolean variable)"
   ]
  },
  {
   "cell_type": "code",
   "execution_count": 1,
   "id": "9e84debd",
   "metadata": {},
   "outputs": [
    {
     "data": {
      "text/plain": [
       "False"
      ]
     },
     "execution_count": 1,
     "metadata": {},
     "output_type": "execute_result"
    }
   ],
   "source": [
    "# Operator greater than: >\n",
    "4 > 7"
   ]
  },
  {
   "cell_type": "code",
   "execution_count": 2,
   "id": "4c70ec7e",
   "metadata": {},
   "outputs": [
    {
     "data": {
      "text/plain": [
       "False"
      ]
     },
     "execution_count": 2,
     "metadata": {},
     "output_type": "execute_result"
    }
   ],
   "source": [
    "# Operator less than: <\n",
    "8 < 5"
   ]
  },
  {
   "cell_type": "code",
   "execution_count": 3,
   "id": "be0ac0af",
   "metadata": {},
   "outputs": [
    {
     "data": {
      "text/plain": [
       "False"
      ]
     },
     "execution_count": 3,
     "metadata": {},
     "output_type": "execute_result"
    }
   ],
   "source": [
    "# Operator greater or equal to: >=\n",
    "7 >= 12"
   ]
  },
  {
   "cell_type": "code",
   "execution_count": 4,
   "id": "fa655cf4",
   "metadata": {},
   "outputs": [
    {
     "data": {
      "text/plain": [
       "False"
      ]
     },
     "execution_count": 4,
     "metadata": {},
     "output_type": "execute_result"
    }
   ],
   "source": [
    "# Operator less or equal to: <=\n",
    "7 <= 2"
   ]
  },
  {
   "cell_type": "code",
   "execution_count": 5,
   "id": "4245bfae",
   "metadata": {},
   "outputs": [
    {
     "data": {
      "text/plain": [
       "False"
      ]
     },
     "execution_count": 5,
     "metadata": {},
     "output_type": "execute_result"
    }
   ],
   "source": [
    "# Equality operator: ==\n",
    "2 == 3"
   ]
  },
  {
   "cell_type": "code",
   "execution_count": 6,
   "id": "eb818b4e",
   "metadata": {},
   "outputs": [
    {
     "data": {
      "text/plain": [
       "True"
      ]
     },
     "execution_count": 6,
     "metadata": {},
     "output_type": "execute_result"
    }
   ],
   "source": [
    "# Equality operators for strings:\n",
    "'palabra' == 'palabra'"
   ]
  },
  {
   "cell_type": "code",
   "execution_count": 7,
   "id": "2581a25d",
   "metadata": {},
   "outputs": [
    {
     "data": {
      "text/plain": [
       "False"
      ]
     },
     "execution_count": 7,
     "metadata": {},
     "output_type": "execute_result"
    }
   ],
   "source": [
    "# Operator \"is different to\": !=\n",
    "2 != 2 "
   ]
  },
  {
   "cell_type": "code",
   "execution_count": 8,
   "id": "a9cd388b",
   "metadata": {},
   "outputs": [
    {
     "data": {
      "text/plain": [
       "True"
      ]
     },
     "execution_count": 8,
     "metadata": {},
     "output_type": "execute_result"
    }
   ],
   "source": [
    "# Operator != applied to strings\n",
    "'palabra' != 'PALABRA'"
   ]
  },
  {
   "cell_type": "code",
   "execution_count": null,
   "id": "d35b9ed8",
   "metadata": {},
   "outputs": [],
   "source": []
  }
 ],
 "metadata": {
  "kernelspec": {
   "display_name": "Python 3 (ipykernel)",
   "language": "python",
   "name": "python3"
  },
  "language_info": {
   "codemirror_mode": {
    "name": "ipython",
    "version": 3
   },
   "file_extension": ".py",
   "mimetype": "text/x-python",
   "name": "python",
   "nbconvert_exporter": "python",
   "pygments_lexer": "ipython3",
   "version": "3.13.2"
  }
 },
 "nbformat": 4,
 "nbformat_minor": 5
}
