{
 "cells": [
  {
   "cell_type": "markdown",
   "id": "f3ac7464",
   "metadata": {},
   "source": [
    "# ¡MY FIRST NOTEBOOK!"
   ]
  },
  {
   "cell_type": "markdown",
   "id": "971989ea",
   "metadata": {},
   "source": [
    "## Basic operations"
   ]
  },
  {
   "cell_type": "code",
   "execution_count": 13,
   "id": "b1dadc27",
   "metadata": {},
   "outputs": [
    {
     "data": {
      "text/plain": [
       "15.7"
      ]
     },
     "execution_count": 13,
     "metadata": {},
     "output_type": "execute_result"
    }
   ],
   "source": [
    "# Sum\n",
    "5 + 7.2 + 3.5"
   ]
  },
  {
   "cell_type": "code",
   "execution_count": 14,
   "id": "a980f989",
   "metadata": {},
   "outputs": [
    {
     "data": {
      "text/plain": [
       "-7"
      ]
     },
     "execution_count": 14,
     "metadata": {},
     "output_type": "execute_result"
    }
   ],
   "source": [
    "# Extract\n",
    "5 - 3 - 9"
   ]
  },
  {
   "cell_type": "code",
   "execution_count": 15,
   "id": "da319ed3",
   "metadata": {},
   "outputs": [
    {
     "data": {
      "text/plain": [
       "414"
      ]
     },
     "execution_count": 15,
     "metadata": {},
     "output_type": "execute_result"
    }
   ],
   "source": [
    "# Multiplication\n",
    "2 * 9 * 23"
   ]
  },
  {
   "cell_type": "code",
   "execution_count": 16,
   "id": "7bb20956",
   "metadata": {},
   "outputs": [
    {
     "data": {
      "text/plain": [
       "0.42857142857142855"
      ]
     },
     "execution_count": 16,
     "metadata": {},
     "output_type": "execute_result"
    }
   ],
   "source": [
    "# Division\n",
    "3 / 7"
   ]
  },
  {
   "cell_type": "code",
   "execution_count": 17,
   "id": "19c51d10",
   "metadata": {},
   "outputs": [
    {
     "data": {
      "text/plain": [
       "1"
      ]
     },
     "execution_count": 17,
     "metadata": {},
     "output_type": "execute_result"
    }
   ],
   "source": [
    "# Module: remainder of the division\n",
    "16 % 3"
   ]
  },
  {
   "cell_type": "code",
   "execution_count": 18,
   "id": "d01e1a57",
   "metadata": {},
   "outputs": [
    {
     "data": {
      "text/plain": [
       "5"
      ]
     },
     "execution_count": 18,
     "metadata": {},
     "output_type": "execute_result"
    }
   ],
   "source": [
    "# Division rounded to the nearest smallest integer\n",
    "16//3"
   ]
  },
  {
   "cell_type": "code",
   "execution_count": 19,
   "id": "ed273d70",
   "metadata": {},
   "outputs": [
    {
     "data": {
      "text/plain": [
       "125"
      ]
     },
     "execution_count": 19,
     "metadata": {},
     "output_type": "execute_result"
    }
   ],
   "source": [
    "# Raise a number to the power\n",
    "5**3"
   ]
  },
  {
   "cell_type": "markdown",
   "id": "223351bb",
   "metadata": {},
   "source": [
    "## Operator precedence"
   ]
  },
  {
   "cell_type": "code",
   "execution_count": 20,
   "id": "9ff00073",
   "metadata": {},
   "outputs": [
    {
     "data": {
      "text/plain": [
       "4.0"
      ]
     },
     "execution_count": 20,
     "metadata": {},
     "output_type": "execute_result"
    }
   ],
   "source": [
    "# Multiplication precedes division\n",
    "5*2/2.5"
   ]
  },
  {
   "cell_type": "code",
   "execution_count": 21,
   "id": "4604d3de",
   "metadata": {},
   "outputs": [
    {
     "data": {
      "text/plain": [
       "4.5"
      ]
     },
     "execution_count": 21,
     "metadata": {},
     "output_type": "execute_result"
    }
   ],
   "source": [
    "# Multiplication or division precede addition or subtraction\n",
    "5-2/4"
   ]
  },
  {
   "cell_type": "code",
   "execution_count": 22,
   "id": "946d8e18",
   "metadata": {},
   "outputs": [
    {
     "data": {
      "text/plain": [
       "4.0"
      ]
     },
     "execution_count": 22,
     "metadata": {},
     "output_type": "execute_result"
    }
   ],
   "source": [
    "5*(2/2.5)"
   ]
  },
  {
   "cell_type": "code",
   "execution_count": 23,
   "id": "9374f794",
   "metadata": {},
   "outputs": [
    {
     "data": {
      "text/plain": [
       "0.75"
      ]
     },
     "execution_count": 23,
     "metadata": {},
     "output_type": "execute_result"
    }
   ],
   "source": [
    "# Parentheses take precedence over any other operation.\n",
    "(5-2)/4"
   ]
  },
  {
   "cell_type": "code",
   "execution_count": 24,
   "id": "9e69a0ba",
   "metadata": {},
   "outputs": [
    {
     "data": {
      "text/plain": [
       "5"
      ]
     },
     "execution_count": 24,
     "metadata": {},
     "output_type": "execute_result"
    }
   ],
   "source": [
    "# Approximate division to the smallest integer\n",
    "16//3"
   ]
  }
 ],
 "metadata": {
  "kernelspec": {
   "display_name": "Python 3 (ipykernel)",
   "language": "python",
   "name": "python3"
  },
  "language_info": {
   "codemirror_mode": {
    "name": "ipython",
    "version": 3
   },
   "file_extension": ".py",
   "mimetype": "text/x-python",
   "name": "python",
   "nbconvert_exporter": "python",
   "pygments_lexer": "ipython3",
   "version": "3.13.2"
  }
 },
 "nbformat": 4,
 "nbformat_minor": 5
}
